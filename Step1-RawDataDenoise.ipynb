{
 "cells": [
  {
   "cell_type": "markdown",
   "metadata": {
    "scrolled": true
   },
   "source": [
    "## Registation date for the company\n",
    "\n",
    "The raw data can be found [here](https://data.world/telangwana/company-master-data-of-telangana-upto-31st-march-2015/workspace/file?filename=company_master_data_upto_Mar_2015_Telangana.csv/)\n",
    "\n",
    "- `CORPORATE_IDENTIFICATION_NUMBER` - Corporate ID\n",
    "- `DATE_OF_REGISTRATION` - Registation Date\n",
    "- `COMPANY_NAME` - Company Name\n",
    "- `AUTHORIZED_CAPITAL` - Authorized Capital\n",
    "- `PAIDUP_CAPITAL` - Paidup Captital"
   ]
  },
  {
   "cell_type": "code",
   "execution_count": 1,
   "metadata": {},
   "outputs": [],
   "source": [
    "import csv\n",
    "\n",
    "inputList = []\n",
    "with open('company_master_data_upto_Mar_2015_Telangana.csv','r',encoding='utf-8') as f:\n",
    "    reader = csv.reader(f,dialect='excel')\n",
    "    for row in reader:\n",
    "        inputList.append(row)"
   ]
  },
  {
   "cell_type": "markdown",
   "metadata": {},
   "source": [
    "## Data Denoise\n",
    "\n",
    "The raw data behind the story  **Some people are too superstitious to have a baby on Friday the 13th**, which you can read [here](https://fivethirtyeight.com/features/some-people-are-too-superstitious-to-have-a-baby-on-friday-the-13th/)\n",
    "\n",
    "- `Header` - Remove CSV Header\n",
    "- `NA` - Remove record if field is NA\n",
    "- `Output` - DenoiseList1.csv\n"
   ]
  },
  {
   "cell_type": "code",
   "execution_count": 5,
   "metadata": {},
   "outputs": [],
   "source": [
    "import pandas as pd\n",
    "#Remove the Header\n",
    "inputList = inputList[1:len(inputList)]\n",
    "\n",
    "#Remove the NA Element\n",
    "DenoiseList1 = []\n",
    "for i in inputList:\n",
    "    if i[0] != \"\":\n",
    "        if i[1] != \"NA\" and i[4] != \"NA\":\n",
    "            DenoiseList1.append([i[0],i[1],i[2],i[3],i[4]])\n",
    "name=['CORPORATE_IDENTIFICATION_NUMBER','DATE_OF_REGISTRATION','COMPANY_NAME','AUTHORIZED_CAPITAL','PAIDUP_CAPITAL']\n",
    "csv=pd.DataFrame(columns=name,data=DenoiseList1)\n",
    "csv.to_csv('DenoiseList1.csv',encoding='utf-8')\n"
   ]
  },
  {
   "cell_type": "code",
   "execution_count": null,
   "metadata": {},
   "outputs": [],
   "source": []
  }
 ],
 "metadata": {
  "anaconda-cloud": {},
  "kernelspec": {
   "display_name": "Python 3",
   "language": "python",
   "name": "python3"
  },
  "language_info": {
   "codemirror_mode": {
    "name": "ipython",
    "version": 3
   },
   "file_extension": ".py",
   "mimetype": "text/x-python",
   "name": "python",
   "nbconvert_exporter": "python",
   "pygments_lexer": "ipython3",
   "version": "3.7.3"
  }
 },
 "nbformat": 4,
 "nbformat_minor": 1
}
