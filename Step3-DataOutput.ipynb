{
 "cells": [
  {
   "cell_type": "markdown",
   "metadata": {
    "scrolled": true
   },
   "source": [
    "## Data Output"
   ]
  },
  {
   "cell_type": "code",
   "execution_count": 1,
   "metadata": {},
   "outputs": [],
   "source": [
    "import csv\n",
    "\n",
    "cpy_zodiac_List = []\n",
    "with open('CompanyZodiac.csv','r',encoding='utf-8') as f:\n",
    "    reader = csv.reader(f,dialect='excel')\n",
    "    for row in reader:\n",
    "        cpy_zodiac_List.append(row)\n",
    "\n",
    "#Remove the Header\n",
    "cpy_zodiac_List = cpy_zodiac_List[1:len(cpy_zodiac_List)]"
   ]
  },
  {
   "cell_type": "markdown",
   "metadata": {},
   "source": [
    "## Calculating the Total of Each Zodiac"
   ]
  },
  {
   "cell_type": "code",
   "execution_count": 12,
   "metadata": {},
   "outputs": [
    {
     "name": "stdout",
     "output_type": "stream",
     "text": [
      "[['Capricorn', 455], ['Aquarius', 566], ['Pisces', 595], ['Aries', 577], ['Taurus', 499], ['Gemini', 539], ['Cancer', 509], ['Leo', 502], ['Virgo', 556], ['Libra', 485], ['Scorpio', 467], ['Sagitarius', 576]]\n"
     ]
    }
   ],
   "source": [
    "def zodiac_total(capital):\n",
    "    \n",
    "    zodiac_name = ['Capricorn','Aquarius','Pisces','Aries','Taurus','Gemini','Cancer','Leo','Virgo','Libra','Scorpio','Sagitarius']\n",
    "    zodiac_total_List = [0,0,0,0,0,0,0,0,0,0,0,0]\n",
    "    zodiac_List=[]\n",
    "    \n",
    "    locale.setlocale( locale.LC_ALL, 'en_US.UTF-8' )\n",
    "    \n",
    "    for i in cpy_zodiac_List:\n",
    "        if  float(i[5].replace(',','')) >= capital:\n",
    "            zodiac_total_List[zodiac_name.index(i[6])] += 1\n",
    "    \n",
    "    x = 0\n",
    "    while x <= 11:\n",
    "        zodiac_List.append([zodiac_name[x],zodiac_total_List[x]])\n",
    "        x += 1\n",
    "    return zodiac_List\n",
    "\n",
    "#Find the list if Paidup Captital >= 10,000,000\n",
    "print(zodiac_total(10000000))"
   ]
  },
  {
   "cell_type": "code",
   "execution_count": null,
   "metadata": {},
   "outputs": [],
   "source": []
  }
 ],
 "metadata": {
  "anaconda-cloud": {},
  "kernelspec": {
   "display_name": "Python 3",
   "language": "python",
   "name": "python3"
  },
  "language_info": {
   "codemirror_mode": {
    "name": "ipython",
    "version": 3
   },
   "file_extension": ".py",
   "mimetype": "text/x-python",
   "name": "python",
   "nbconvert_exporter": "python",
   "pygments_lexer": "ipython3",
   "version": "3.7.3"
  }
 },
 "nbformat": 4,
 "nbformat_minor": 1
}
