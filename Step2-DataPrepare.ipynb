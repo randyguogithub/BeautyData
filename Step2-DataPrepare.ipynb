{
 "cells": [
  {
   "cell_type": "markdown",
   "metadata": {
    "scrolled": true
   },
   "source": [
    "## Data Generation"
   ]
  },
  {
   "cell_type": "code",
   "execution_count": 1,
   "metadata": {},
   "outputs": [],
   "source": [
    "import csv\n",
    "\n",
    "cpy_List = []\n",
    "with open('DenoiseList1.csv','r',encoding='utf-8') as f:\n",
    "    reader = csv.reader(f,dialect='excel')\n",
    "    for row in reader:\n",
    "        cpy_List.append(row)\n",
    "\n",
    "#Remove the Header\n",
    "cpy_List = cpy_List[1:len(cpy_List)]"
   ]
  },
  {
   "cell_type": "markdown",
   "metadata": {},
   "source": [
    "## Calculating Star_Sign",
    "\n",
    "- `Install` : pip install datetime\n",
    "- `CSV_IO_Issue` : jupyter notebook --NotebookApp.iopub_data_rate_limit=2147483647\n"
   ]
  },
  {
   "cell_type": "code",
   "execution_count": 4,
   "metadata": {},
   "outputs": [],
   "source": [
    "import datetime\n",
    "import pandas as pd\n",
    "def Star_Sign(month,day):\n",
    "    \n",
    "    zodiac_name = ['Capricorn','Aquarius','Pisces','Aries','Taurus','Gemini','Cancer','Leo','Virgo','Libra','Scorpio','Sagitarius']\n",
    "    zodiac_date = ((1,20),(2,19),(3,21),(4,21),(5,21),(6,22),(7,23),(8,23),(9,23),(10,23),(11,23),(12,23))\n",
    "    \n",
    "    return zodiac_name[len(list(filter(lambda x:x<(month,day),zodiac_date)))%12]\n",
    "\n",
    "cpy_zodiac_List = []\n",
    "for i in cpy_List:\n",
    "    month = datetime.datetime.strptime(i[2], '%d-%m-%Y').strftime('%m')\n",
    "    date = datetime.datetime.strptime(i[2], '%d-%m-%Y').strftime('%d')\n",
    "    zodiac = Star_Sign(int(month),int(date))\n",
    "    cpy_zodiac_List.append([i[1],i[2],i[3],i[4],i[5],zodiac])\n",
    "\n",
    "name=['CORPORATE_IDENTIFICATION_NUMBER','DATE_OF_REGISTRATION','COMPANY_NAME','AUTHORIZED_CAPITAL','PAIDUP_CAPITAL','ZODIAC_OF_REGISTRATION']\n",
    "csv=pd.DataFrame(columns=name,data=cpy_zodiac_List)\n",
    "csv.to_csv('CompanyZodiac.csv',encoding='utf-8')"
   ]
  },
  {
   "cell_type": "code",
   "execution_count": null,
   "metadata": {},
   "outputs": [],
   "source": []
  }
 ],
 "metadata": {
  "anaconda-cloud": {},
  "kernelspec": {
   "display_name": "Python 3",
   "language": "python",
   "name": "python3"
  },
  "language_info": {
   "codemirror_mode": {
    "name": "ipython",
    "version": 3
   },
   "file_extension": ".py",
   "mimetype": "text/x-python",
   "name": "python",
   "nbconvert_exporter": "python",
   "pygments_lexer": "ipython3",
   "version": "3.7.3"
  }
 },
 "nbformat": 4,
 "nbformat_minor": 1
}
